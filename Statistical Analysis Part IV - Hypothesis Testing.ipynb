{
  "nbformat": 4,
  "nbformat_minor": 0,
  "metadata": {
    "colab": {
      "provenance": [],
      "authorship_tag": "ABX9TyMCclNHaxV5oaObvbHVbT5S",
      "include_colab_link": true
    },
    "kernelspec": {
      "name": "python3",
      "display_name": "Python 3"
    },
    "language_info": {
      "name": "python"
    }
  },
  "cells": [
    {
      "cell_type": "markdown",
      "metadata": {
        "id": "view-in-github",
        "colab_type": "text"
      },
      "source": [
        "<a href=\"https://colab.research.google.com/github/HanifaElahi/Statistical-Analysis/blob/main/Statistical%20Analysis%20Part%20IV%20-%20Hypothesis%20Testing.ipynb\" target=\"_parent\"><img src=\"https://colab.research.google.com/assets/colab-badge.svg\" alt=\"Open In Colab\"/></a>"
      ]
    },
    {
      "cell_type": "markdown",
      "source": [
        "# Inferential Statistics\n",
        "\n",
        "---\n",
        "\n",
        "- Inferential Statistics makes inferences and predictions about the population based on a sample of data taken from the population.\n",
        "\n",
        "- It generalizes a large dataset and applies probabilities to draw a conclusion.\n",
        "\n",
        "- It is simply used for explaining the meaning of descriptive stats.\n",
        "\n",
        "- It is simply used to analyze, interpret results, and draw conclusions.\n",
        "\n",
        "- Inferential Statistics is mainly related to and associated with hypothesis testing whose main target is to reject the null hypothesis.\n",
        "\n"
      ],
      "metadata": {
        "id": "HSvoriK0EvZE"
      }
    },
    {
      "cell_type": "markdown",
      "source": [
        "# Hypothesis\n",
        "\n",
        "---\n",
        "\n",
        "\n",
        "- A hypothesis is a clear prediction or assumption based on existing knowledge.\n",
        "\n",
        "- It is not a guess but a statement that suggests a possible answer to a specific question.\n",
        "\n",
        "- A good hypothesis is specific, testable, and can guide further research based on the data collected.\n",
        "\n",
        "- It involves two variables:\n",
        "  - the independent variable (the cause)  \n",
        "  - the dependent variable (the effect).\n",
        "  \n",
        "  The independent variable influences what happens to the dependent variable."
      ],
      "metadata": {
        "id": "l_RGQTdoEvex"
      }
    },
    {
      "cell_type": "markdown",
      "source": [
        "# Hypothesis Testing\n",
        "\n",
        "---\n",
        "\n",
        "- Hypothesis testing is performed to approve or disapprove a statement made about a sample drawn from a population.\n",
        "- A hypothesis test verifies the credibility of the hypothesis and the likelihood that a finding observed from the sample data occurred by chance."
      ],
      "metadata": {
        "id": "Yv32Y6_mt2yi"
      }
    },
    {
      "cell_type": "markdown",
      "source": [
        "# Parts of a Hypothesis\n",
        "\n",
        "---\n",
        "\n",
        "### Null Hypothesis (H₀):\n",
        "- The null hypothesis assumes that there is no effect or difference between variables.\n",
        "- It serves as the baseline or default statement for testing.\n",
        "- Example: \"Age has no impact on health status,\" meaning a person's health is unaffected by their age.\n",
        "- The null hypothesis is tested and then either accepted or rejected.\n",
        "\n",
        "### Alternative Hypothesis (H₁):\n",
        "- The alternative hypothesis suggests that there is an effect or difference between variables.\n",
        "- It is the statement researchers aim to support.\n",
        "\n",
        "- Example: \"Age impacts health status,\" indicating that a person’s health is influenced by their age."
      ],
      "metadata": {
        "id": "btmztL5uhfcU"
      }
    },
    {
      "cell_type": "markdown",
      "source": [
        "# Important Terms in Hypothesis Testing\n",
        "\n",
        "---\n",
        "\n",
        "### Level of Significance (α)\n",
        "\n",
        "- The threshold to decide if results are significant, usually set at 5% (0.05).   \n",
        "  - It’s the chance of wrongly rejecting the null hypothesis.\n",
        "\n",
        "### P-value\n",
        "\n",
        "- The probability of getting the observed results.\n",
        "  - If the p-value is less than α, reject H₀ (H₁ is true).\n",
        "  - If it’s greater, accept H₀ (H₀ is true).\n",
        "\n",
        "\n",
        "### Confidence Level\n",
        "\n",
        "- The probability (usually 95%) that the results accurately reflect the true population.\n",
        "- It’s calculated as 1 - α.\n",
        "\n",
        "### Confidence Interval\n",
        "\n",
        "- A range of values within which the true population parameter likely falls, accounting for sampling error (e.g., 44%-52%).\n",
        "\n",
        "\n",
        "\n",
        "**Note: Confidence Level can be zero but significance level can’t be zero.**\n",
        "\n",
        "\n",
        "## **Example**  \n",
        "\n",
        "### **Scenario:**  \n",
        "Testing if a new drug lowers blood pressure more effectively than the current drug.  \n",
        "\n",
        "1. **Level of Significance (α):**  \n",
        " - Set to **0.05** (5%). This means there is a 5% chance of mistakenly concluding the new drug works better.  \n",
        "\n",
        "2. **P-value:**  \n",
        " - The calculated **p-value = 0.03**.  \n",
        " - Since **0.03 < 0.05**, reject H₀ (null hypothesis) and conclude the new drug is more effective.  \n",
        "\n",
        "3. **Confidence Level:**  \n",
        " - Set to **95%**, meaning we are 95% confident the results reflect the true effect of the drug.  \n",
        "\n",
        "4. **Confidence Interval:**  \n",
        " - The average blood pressure reduction is **10 mmHg**, with a confidence interval of **8 mmHg to 12 mmHg**.  \n",
        " - This implies the drug’s true effect likely lies between **8 mmHg and 12 mmHg**.  \n",
        "\n",
        "---\n",
        "\n",
        "**Conclusion:**  \n",
        "The new drug is statistically proven to lower blood pressure more effectively than the current drug, with 95% confidence."
      ],
      "metadata": {
        "id": "Kkgk3ZbDiFF-"
      }
    },
    {
      "cell_type": "markdown",
      "source": [
        "# Types of Hypothesis Tests\n",
        "\n",
        "---\n",
        "\n",
        "## Parametric tests\n",
        "\n",
        "Parametric tests assume that the data follows a specific probability distribution, typically the normal distribution. These tests are generally more powerful when the assumptions are met. Common parametric tests include:\n",
        "\n",
        "\n",
        "## Non-parametric tests\n",
        "Non-parametric tests don't assume a specific distribution of the data. They are useful when dealing with ordinal data or when the assumptions of parametric tests are violated.\n",
        "\n",
        "\n",
        "Hypothesis testing is a type of inferential procedure that takes the help of sample data to evaluate and assess the credibility of a hypothesis about a population."
      ],
      "metadata": {
        "id": "2zLP2goNGCq-"
      }
    },
    {
      "cell_type": "markdown",
      "source": [
        "# Hypothesis Testing Outcomes: Type I and Type II errors\n",
        "\n",
        "---\n",
        "\n",
        "## Type I error or α-error##\n",
        "\n",
        "ype I error or α-error occurs when the null hypothesis is true but it is rejected.\n",
        "\n",
        "## Type II error or β-error\n",
        "\n",
        "Type II error or β-error occurs when the null hypothesis is false but it is accepted.\n",
        "\n",
        "Both errors can not simultaneously be zero. If one of them is zero, then the other automatically becomes one. However, this does not mean that α + β = 1. In most cases, α is set at 0.05, which is also the significance level.\n",
        "\n"
      ],
      "metadata": {
        "id": "JnVDGGEiEvia"
      }
    },
    {
      "cell_type": "markdown",
      "source": [
        "# Importing Libraries & Dependencies"
      ],
      "metadata": {
        "id": "hSpbpakShv0N"
      }
    },
    {
      "cell_type": "code",
      "source": [
        "import numpy as np\n",
        "\n",
        "import pandas as pd"
      ],
      "metadata": {
        "id": "u1K0g5XPhwK3"
      },
      "execution_count": 1,
      "outputs": []
    },
    {
      "cell_type": "code",
      "source": [
        "# One-Sample t-Test Implementation\n",
        "from scipy.stats import ttest_1samp\n",
        "# Two-Sample t-Test Implementation\n",
        "from scipy.stats import ttest_ind\n",
        "# Paired t-Test Implementation\n",
        "from scipy.stats import ttest_rel\n",
        "# Z-Test Implementation\n",
        "from statsmodels.stats.weightstats import ztest\n",
        "# F-Test Implementation\n",
        "from scipy.stats import f_oneway"
      ],
      "metadata": {
        "id": "3L7bKZi0jQIQ"
      },
      "execution_count": 2,
      "outputs": []
    },
    {
      "cell_type": "code",
      "source": [
        "# Mann-Whitney U Test Implementation\n",
        "from scipy.stats import mannwhitneyu\n",
        "# Kruskal-Wallis Test Implementation\n",
        "from scipy.stats import kruskal\n",
        "# Wilcoxon Signed-Rank Test Implementation\n",
        "from scipy.stats import wilcoxon"
      ],
      "metadata": {
        "id": "FZCrFnA7losR"
      },
      "execution_count": 3,
      "outputs": []
    },
    {
      "cell_type": "markdown",
      "source": [
        "# Generating Data"
      ],
      "metadata": {
        "id": "hSEdCbuVh4rZ"
      }
    },
    {
      "cell_type": "code",
      "source": [
        "np.random.seed(42)"
      ],
      "metadata": {
        "id": "2wXoe3SMhwSF"
      },
      "execution_count": 4,
      "outputs": []
    },
    {
      "cell_type": "code",
      "source": [
        "group1 = np.random.normal(loc=70, scale=5, size=100)\n",
        "group2 = np.random.normal(loc=65, scale=5, size=100)"
      ],
      "metadata": {
        "id": "98YkLFYPmPA4"
      },
      "execution_count": 5,
      "outputs": []
    },
    {
      "cell_type": "code",
      "source": [
        "before = np.random.normal(loc=70, scale=5, size=50)\n",
        "after = before + np.random.normal(loc=-1, scale=2, size=50)"
      ],
      "metadata": {
        "id": "QvUw0Ee8mQoP"
      },
      "execution_count": 6,
      "outputs": []
    },
    {
      "cell_type": "code",
      "source": [
        "group_a = np.random.normal(loc=72, scale=4, size=30)\n",
        "group_b = np.random.normal(loc=68, scale=4, size=30)\n",
        "group_c = np.random.normal(loc=65, scale=4, size=30)"
      ],
      "metadata": {
        "id": "3lRZp46hh_pN"
      },
      "execution_count": 7,
      "outputs": []
    },
    {
      "cell_type": "markdown",
      "source": [
        "# 1. Parametric Tests\n"
      ],
      "metadata": {
        "id": "Z6fuHxWmiTn1"
      }
    },
    {
      "cell_type": "markdown",
      "source": [
        "## 1.1 One-Sample t-Test\n",
        "\n",
        "---\n",
        "\n",
        "### Definition:\n",
        "\n",
        "\n",
        "A one-sample t-test checks whether the mean of a single sample is significantly different from a known or hypothesized population mean.\n",
        "\n",
        "---\n",
        "\n",
        "### Example Use Case\n",
        "\n",
        "\n",
        "Testing if the average life expectancy in a dataset is equal to 70 years.\n",
        "\n",
        "---\n",
        "\n",
        "### Assumptions\n",
        "\n",
        "\n",
        "- The data is normally distributed.\n",
        "- The sample observations are independent.\n"
      ],
      "metadata": {
        "id": "wLZaq7pEiX4w"
      }
    },
    {
      "cell_type": "code",
      "source": [
        "t_stat, p_value = ttest_1samp(group1, 70)"
      ],
      "metadata": {
        "id": "xA7Eo9s1ja29"
      },
      "execution_count": 8,
      "outputs": []
    },
    {
      "cell_type": "code",
      "source": [
        "# Interpretation\n",
        "if p_value < 0.05:\n",
        "    print(f\"One-Sample t-Test: Reject H0 (p-value={p_value:.3f}) - Significant difference from mean 70.\")\n",
        "else:\n",
        "    print(f\"One-Sample t-Test: Fail to Reject H0 (p-value={p_value:.3f}) - No significant difference.\")"
      ],
      "metadata": {
        "colab": {
          "base_uri": "https://localhost:8080/"
        },
        "id": "5VXNgIFoh_3O",
        "outputId": "ed7b0da4-e64e-4f3c-9b65-9fc8e98dcca3"
      },
      "execution_count": 9,
      "outputs": [
        {
          "output_type": "stream",
          "name": "stdout",
          "text": [
            "One-Sample t-Test: Fail to Reject H0 (p-value=0.256) - No significant difference.\n"
          ]
        }
      ]
    },
    {
      "cell_type": "markdown",
      "source": [
        "## 1.2 Two-Sample t-Test\n",
        "\n",
        "---\n",
        "\n",
        "### Definition\n",
        "\n",
        "A two-sample t-test compares the means of two independent groups to determine if they are significantly different.\n",
        "\n",
        "---\n",
        "\n",
        "### Example Use Case\n",
        "\n",
        "Comparing life expectancy between \"Developed\" and \"Developing\" countries.\n",
        "\n",
        "---\n",
        "\n",
        "### Assumptions\n",
        "\n",
        "- The data in both groups are normally distributed.\n",
        "- Variances between groups are equal (optional if equal_var=False)."
      ],
      "metadata": {
        "id": "O56YlQAgjjb5"
      }
    },
    {
      "cell_type": "code",
      "source": [
        "# Compare means of group1 and group2\n",
        "t_stat, p_value = ttest_ind(group1, group2, equal_var=False)"
      ],
      "metadata": {
        "id": "jQTxhVuFkH6k"
      },
      "execution_count": 10,
      "outputs": []
    },
    {
      "cell_type": "code",
      "source": [
        "\n",
        "# Interpretation\n",
        "if p_value < 0.05:\n",
        "    print(f\"Two-Sample t-Test: Reject H0 (p-value={p_value:.3f}) - Significant difference between groups.\")\n",
        "else:\n",
        "    print(f\"Two-Sample t-Test: Fail to Reject H0 (p-value={p_value:.3f}) - No significant difference.\")"
      ],
      "metadata": {
        "colab": {
          "base_uri": "https://localhost:8080/"
        },
        "id": "PvtYgVFTkH93",
        "outputId": "cc47715d-f097-47dc-98e5-a72752debec8"
      },
      "execution_count": 11,
      "outputs": [
        {
          "output_type": "stream",
          "name": "stdout",
          "text": [
            "Two-Sample t-Test: Reject H0 (p-value=0.000) - Significant difference between groups.\n"
          ]
        }
      ]
    },
    {
      "cell_type": "markdown",
      "source": [
        "## 1.3 Paired t-Test\n",
        "\n",
        "---\n",
        "\n",
        "### Definition\n",
        "\n",
        "A paired t-test compares the means of two related groups to determine if they are significantly different.\n",
        "\n",
        "---\n",
        "\n",
        "### Example Use Case\n",
        "\n",
        "Comparing life expectancy before and after an intervention.\n",
        "\n",
        "---\n",
        "\n",
        "### Assumptions\n",
        "\n",
        "Differences between paired observations are normally distributed."
      ],
      "metadata": {
        "id": "SyM-LUWekY1H"
      }
    },
    {
      "cell_type": "code",
      "source": [
        "# Compare before and after\n",
        "t_stat, p_value = ttest_rel(before, after)"
      ],
      "metadata": {
        "id": "ejGcLSY3kIBQ"
      },
      "execution_count": 12,
      "outputs": []
    },
    {
      "cell_type": "code",
      "source": [
        "# Interpretation\n",
        "if p_value < 0.05:\n",
        "    print(f\"Paired t-Test: Reject H0 (p-value={p_value:.3f}) - Significant difference before and after.\")\n",
        "else:\n",
        "    print(f\"Paired t-Test: Fail to Reject H0 (p-value={p_value:.3f}) - No significant difference.\")\n"
      ],
      "metadata": {
        "colab": {
          "base_uri": "https://localhost:8080/"
        },
        "id": "pvhPisffk-MS",
        "outputId": "6cf2a11d-e9ce-4084-f6ab-a476279d28fc"
      },
      "execution_count": 13,
      "outputs": [
        {
          "output_type": "stream",
          "name": "stdout",
          "text": [
            "Paired t-Test: Reject H0 (p-value=0.001) - Significant difference before and after.\n"
          ]
        }
      ]
    },
    {
      "cell_type": "markdown",
      "source": [
        "## 1.4 Z-Test\n",
        "\n",
        "---\n",
        "\n",
        "### Definition\n",
        "\n",
        "The Z-Test is used to determine whether there is a significant difference between the sample mean (or proportion) and the population mean (or proportion). It assumes that the sample data is normally distributed or the sample size is large enough for the Central Limit Theorem to apply.\n",
        "\n",
        "---\n",
        "\n",
        "### Example Use Case\n",
        "\n",
        "Testing whether the average height of a sample group differs significantly from the known population average height.\n",
        "\n",
        "---\n",
        "\n",
        "### Assumptions\n",
        "\n",
        "The data follows a normal distribution or the sample size is sufficiently large.\n",
        "\n",
        "The sample observations are independent.\n",
        "\n",
        "Population standard deviation is kn"
      ],
      "metadata": {
        "id": "exTQfkidrl-1"
      }
    },
    {
      "cell_type": "code",
      "source": [
        "# Perform one-sample Z-Test\n",
        "z_stat, p_value = ztest(group1, value=72)"
      ],
      "metadata": {
        "id": "tgHWQ4HGrmYD"
      },
      "execution_count": 14,
      "outputs": []
    },
    {
      "cell_type": "code",
      "source": [
        "# Interpretation\n",
        "if p_value < 0.05:\n",
        "    print(f\"Z-Test: Reject H0 (p-value={p_value:.3f}) - Significant difference from mean 72.\")\n",
        "else:\n",
        "    print(f\"Z-Test: Fail to Reject H0 (p-value={p_value:.3f}) - No significant difference.\")"
      ],
      "metadata": {
        "colab": {
          "base_uri": "https://localhost:8080/"
        },
        "id": "KdF3jE6Mrmih",
        "outputId": "38d15b61-4a1f-45f4-d06a-70e4869845f6"
      },
      "execution_count": 15,
      "outputs": [
        {
          "output_type": "stream",
          "name": "stdout",
          "text": [
            "Z-Test: Reject H0 (p-value=0.000) - Significant difference from mean 72.\n"
          ]
        }
      ]
    },
    {
      "cell_type": "markdown",
      "source": [
        "## 1.5 F-Test\n",
        "\n",
        "---\n",
        "\n",
        "### Definition\n",
        "\n",
        "The F-Test compares the variances of two or more groups to test if they are significantly different. It is often used as a prerequisite for ANOVA or other tests that assume equal variances.\n",
        "\n",
        "---\n",
        "\n",
        "### Example Use Case\n",
        "\n",
        "Evaluating whether the variability in test scores differs significantly among different classes.\n",
        "\n",
        "---\n",
        "\n",
        "### Assumptions\n",
        "\n",
        "- The groups being compared are independent.\n",
        "\n",
        "- The data in each group is approximately normally distributed.\n",
        "\n",
        "- The samples are randomly selected.\n",
        "\n"
      ],
      "metadata": {
        "id": "upucw8C6rm08"
      }
    },
    {
      "cell_type": "code",
      "source": [
        "# Perform F-Test (ANOVA)\n",
        "f_stat, p_value = f_oneway(group1, group2)"
      ],
      "metadata": {
        "id": "2hpKTjJurnAr"
      },
      "execution_count": 16,
      "outputs": []
    },
    {
      "cell_type": "code",
      "source": [
        "# Interpretation\n",
        "if p_value < 0.05:\n",
        "    print(f\"F-Test: Reject H0 (p-value={p_value:.3f}) - Variances are significantly different.\")\n",
        "else:\n",
        "    print(f\"F-Test: Fail to Reject H0 (p-value={p_value:.3f}) - No significant difference in variances.\")"
      ],
      "metadata": {
        "colab": {
          "base_uri": "https://localhost:8080/"
        },
        "id": "8mQ0tpU0rnGG",
        "outputId": "70b11428-f164-4363-9d63-100c6b640010"
      },
      "execution_count": 17,
      "outputs": [
        {
          "output_type": "stream",
          "name": "stdout",
          "text": [
            "F-Test: Reject H0 (p-value=0.000) - Variances are significantly different.\n"
          ]
        }
      ]
    },
    {
      "cell_type": "markdown",
      "source": [
        "# 2. Non-Parametric Tests\n",
        "\n",
        "\n",
        "## 2.1 Mann-Whitney U Test\n",
        "\n",
        "---\n",
        "\n",
        "### Definition\n",
        "\n",
        "The Mann-Whitney U test compares the medians of two independent groups to determine if they are significantly different.\n",
        "\n",
        "---\n",
        "\n",
        "### Example Use Case\n",
        "\n",
        "Comparing median life expectancy between \"Developed\" and \"Developing\" countries.\n",
        "\n",
        "---\n",
        "\n",
        "### Assumptions\n",
        "\n",
        "- Observations are independent.\n",
        "- Data does not need to be normally distributed."
      ],
      "metadata": {
        "id": "g-NWzBBDlJl4"
      }
    },
    {
      "cell_type": "code",
      "source": [
        "# Compare medians of group1 and group2\n",
        "u_stat, p_value = mannwhitneyu(group1, group2, alternative='two-sided')"
      ],
      "metadata": {
        "id": "uCdLLylJlfrd"
      },
      "execution_count": 18,
      "outputs": []
    },
    {
      "cell_type": "code",
      "source": [
        "# Interpretation\n",
        "if p_value < 0.05:\n",
        "    print(f\"Mann-Whitney U Test: Reject H0 (p-value={p_value:.3f}) - Significant difference in medians.\")\n",
        "else:\n",
        "    print(f\"Mann-Whitney U Test: Fail to Reject H0 (p-value={p_value:.3f}) - No significant difference.\")"
      ],
      "metadata": {
        "colab": {
          "base_uri": "https://localhost:8080/"
        },
        "id": "s045iWSJlvSu",
        "outputId": "c4c76a53-2961-4ff7-f943-0add5ccf103c"
      },
      "execution_count": 19,
      "outputs": [
        {
          "output_type": "stream",
          "name": "stdout",
          "text": [
            "Mann-Whitney U Test: Reject H0 (p-value=0.000) - Significant difference in medians.\n"
          ]
        }
      ]
    },
    {
      "cell_type": "markdown",
      "source": [
        "## 2.2 Wilcoxon Signed-Rank Test\n",
        "\n",
        "---\n",
        "\n",
        "### Definition\n",
        "\n",
        "The Wilcoxon Signed-Rank test compares the medians of two paired samples.\n",
        "\n",
        "---\n",
        "\n",
        "### Example Use Case\n",
        "\n",
        "Comparing median life expectancy before and after an intervention.\n",
        "\n",
        "---\n",
        "\n",
        "### Assumptions\n",
        "\n",
        "- Differences between paired observations are independent.\n",
        "- Data does not need to be normally distributed."
      ],
      "metadata": {
        "id": "S173-JKpnAn0"
      }
    },
    {
      "cell_type": "code",
      "source": [
        "# Compare paired data\n",
        "stat, p_value = wilcoxon(before, after)"
      ],
      "metadata": {
        "id": "g2r4dCIBneKs"
      },
      "execution_count": 20,
      "outputs": []
    },
    {
      "cell_type": "code",
      "source": [
        "# Interpretation\n",
        "if p_value < 0.05:\n",
        "    print(f\"Wilcoxon Test: Reject H0 (p-value={p_value:.3f}) - Significant difference in medians.\")\n",
        "else:\n",
        "    print(f\"Wilcoxon Test: Fail to Reject H0 (p-value={p_value:.3f}) - No significant difference.\")"
      ],
      "metadata": {
        "colab": {
          "base_uri": "https://localhost:8080/"
        },
        "id": "B7Cr_v3tniOJ",
        "outputId": "2472715d-3f3e-4145-a996-1293126540e7"
      },
      "execution_count": 21,
      "outputs": [
        {
          "output_type": "stream",
          "name": "stdout",
          "text": [
            "Wilcoxon Test: Reject H0 (p-value=0.002) - Significant difference in medians.\n"
          ]
        }
      ]
    },
    {
      "cell_type": "markdown",
      "source": [
        "## 2.3 Kruskal-Wallis Test\n",
        "\n",
        "---\n",
        "\n",
        "### Definition\n",
        "\n",
        "The Kruskal-Wallis test compares the medians of more than two independent groups.\n",
        "\n",
        "---\n",
        "\n",
        "### Example Use Case\n",
        "\n",
        "Comparing median life expectancy across different regions.\n",
        "\n",
        "---\n",
        "\n",
        "### Assumptions\n",
        "- Observations are independent.\n",
        "- Data does not need to be normally distributed."
      ],
      "metadata": {
        "id": "5USyz1KOnP9o"
      }
    },
    {
      "cell_type": "code",
      "source": [
        "# Compare medians across multiple groups\n",
        "stat, p_value = kruskal(group_a, group_b, group_c)"
      ],
      "metadata": {
        "id": "wCrxQNevnlGx"
      },
      "execution_count": 22,
      "outputs": []
    },
    {
      "cell_type": "code",
      "source": [
        "\n",
        "# Interpretation\n",
        "if p_value < 0.05:\n",
        "    print(f\"Kruskal-Wallis Test: Reject H0 (p-value={p_value:.3f}) - Significant difference across groups.\")\n",
        "else:\n",
        "    print(f\"Kruskal-Wallis Test: Fail to Reject H0 (p-value={p_value:.3f}) - No significant difference.\")"
      ],
      "metadata": {
        "colab": {
          "base_uri": "https://localhost:8080/"
        },
        "id": "oonrUYFtnlLr",
        "outputId": "a59a742f-c290-4708-9c46-a85a2dc2c686"
      },
      "execution_count": 23,
      "outputs": [
        {
          "output_type": "stream",
          "name": "stdout",
          "text": [
            "Kruskal-Wallis Test: Reject H0 (p-value=0.000) - Significant difference across groups.\n"
          ]
        }
      ]
    },
    {
      "cell_type": "markdown",
      "source": [
        "| **Test Name**            | **Type**          | **Purpose**                                                                 | **p-value** | **Conclusion**                                           |\n",
        "|---------------------------|-------------------|-----------------------------------------------------------------------------|-------------|---------------------------------------------------------|\n",
        "| One-Sample t-Test         | Parametric        | Test if the sample mean differs from a hypothesized population mean.        | Result      | Reject/Fail to Reject \\(H_0\\).                          |\n",
        "| Two-Sample t-Test         | Parametric        | Compare means of two independent groups.                                    | Result      | Reject/Fail to Reject \\(H_0\\).                          |\n",
        "| Paired t-Test             | Parametric        | Compare means of two related groups.                                        | Result      | Reject/Fail to Reject \\(H_0\\).                          |\n",
        "| Mann-Whitney U Test       | Non-Parametric    | Compare medians of two independent groups.                                  | Result      | Reject/Fail to Reject \\(H_0\\).                          |\n",
        "| Wilcoxon Signed-Rank Test | Non-Parametric    | Compare medians of two related groups.                                      | Result      | Reject/Fail to Reject \\(H_0\\).                          |\n",
        "| Kruskal-Wallis Test       | Non-Parametric    | Compare medians across more than two independent groups.                    | Result      | Reject/Fail to Reject \\(H_0\\).                          |\n",
        "| Z-Test                    | Parametric        | Test if the sample proportion or mean differs from a population proportion or mean. | Result      | Reject/Fail to Reject \\(H_0\\).                          |\n",
        "| F-Test                    | Parametric        | Compare variances of two or more groups to assess equality.                 | Result      | Reject/Fail to Reject \\(H_0\\).                          |\n",
        "\n"
      ],
      "metadata": {
        "id": "6XJbJGI5nuMk"
      }
    }
  ]
}