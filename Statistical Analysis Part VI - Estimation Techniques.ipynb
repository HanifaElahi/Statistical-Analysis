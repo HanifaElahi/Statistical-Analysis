{
  "nbformat": 4,
  "nbformat_minor": 0,
  "metadata": {
    "colab": {
      "provenance": [],
      "authorship_tag": "ABX9TyP9IwRz3shCM9PIwmZpQjjX",
      "include_colab_link": true
    },
    "kernelspec": {
      "name": "python3",
      "display_name": "Python 3"
    },
    "language_info": {
      "name": "python"
    }
  },
  "cells": [
    {
      "cell_type": "markdown",
      "metadata": {
        "id": "view-in-github",
        "colab_type": "text"
      },
      "source": [
        "<a href=\"https://colab.research.google.com/github/HanifaElahi/Statistical-Analysis/blob/main/Statistical%20Analysis%20Part%20VI%20-%20Estimation%20Techniques.ipynb\" target=\"_parent\"><img src=\"https://colab.research.google.com/assets/colab-badge.svg\" alt=\"Open In Colab\"/></a>"
      ]
    },
    {
      "cell_type": "code",
      "execution_count": 1,
      "metadata": {
        "id": "ikWHpeMyubKC"
      },
      "outputs": [],
      "source": [
        "import numpy as np\n",
        "\n",
        "from scipy.stats import norm, beta"
      ]
    },
    {
      "cell_type": "markdown",
      "source": [],
      "metadata": {
        "id": "W1GdS4Fbujmb"
      }
    },
    {
      "cell_type": "markdown",
      "source": [],
      "metadata": {
        "id": "TykVOLCSujqD"
      }
    },
    {
      "cell_type": "markdown",
      "source": [
        "# 1. Point Estimation\n",
        "\n",
        "## Definition\n",
        "\n",
        "Point estimation provides a single best guess or value for an unknown population parameter (e.g., mean, variance) based on sample data.\n",
        "\n",
        "## Key Concepts\n",
        "\n",
        "- Estimator: A rule or formula used to compute the estimate (e.g., sample mean).\n",
        "- Bias: Difference between the expected value of the estimator and the true parameter value.\n",
        "- Efficiency: Measure of the estimator’s variance relative to others.\n",
        "\n",
        "## Pros\n",
        "\n",
        "- Simple to compute.\n",
        "- Directly applicable in many real-world scenarios.\n",
        "\n",
        "## Cons\n",
        "\n",
        "- Does not provide information about variability or uncertainty.\n",
        "- Sensitive to outliers.\n",
        "\n",
        "## Use Cases\n",
        "\n",
        "- Estimating population averages (e.g., average income, test scores).\n",
        "- Calculating proportions (e.g., proportion of defective products).\n",
        "\n"
      ],
      "metadata": {
        "id": "4NVpVkxTujtb"
      }
    },
    {
      "cell_type": "code",
      "source": [
        "# Generate sample data\n",
        "data = np.random.normal(loc=10, scale=2, size=100)"
      ],
      "metadata": {
        "id": "XQ9f4byJv22w"
      },
      "execution_count": 2,
      "outputs": []
    },
    {
      "cell_type": "code",
      "source": [
        "# Point estimation: Mean\n",
        "mean_estimate = np.mean(data)\n",
        "variance_estimate = np.var(data, ddof=1)"
      ],
      "metadata": {
        "id": "hUByKUblv9tn"
      },
      "execution_count": 3,
      "outputs": []
    },
    {
      "cell_type": "code",
      "source": [
        "print(f\"Mean Estimate: {mean_estimate}\")\n",
        "print(f\"Variance Estimate: {variance_estimate}\")"
      ],
      "metadata": {
        "colab": {
          "base_uri": "https://localhost:8080/"
        },
        "id": "2pqfsufLwABg",
        "outputId": "3d075a7b-fd18-4a4e-e697-6b20d59a8244"
      },
      "execution_count": 4,
      "outputs": [
        {
          "output_type": "stream",
          "name": "stdout",
          "text": [
            "Mean Estimate: 9.581735304855037\n",
            "Variance Estimate: 3.169590299565443\n"
          ]
        }
      ]
    },
    {
      "cell_type": "markdown",
      "source": [
        "# 2. Interval Estimation\n",
        "\n",
        "## Definition\n",
        "\n",
        "Interval estimation provides a range of values (confidence interval) within which the unknown parameter is likely to fall, with a certain probability.\n",
        "\n",
        "## Key Concepts\n",
        "\n",
        "- Confidence Level: Probability that the interval contains the true parameter (e.g., 95% confidence).\n",
        "- Margin of Error: Half-width of the interval.\n",
        "\n",
        "## Pros\n",
        "\n",
        "- Accounts for uncertainty in estimation.\n",
        "- Provides a range for better decision-making.\n",
        "\n",
        "## Cons\n",
        "\n",
        "- Relies on assumptions (e.g., normality of data).\n",
        "- Interval width can be large with small sample sizes.\n",
        "\n",
        "## Use Cases\n",
        "\n",
        "- Estimating population means in surveys.\n",
        "- Forecasting confidence intervals for future outcomes.\n"
      ],
      "metadata": {
        "id": "BBrD1_Ofu6fl"
      }
    },
    {
      "cell_type": "code",
      "source": [
        "# Confidence interval for mean\n",
        "confidence_level = 0.95\n",
        "\n",
        "n = len(data)\n",
        "\n",
        "mean = np.mean(data)\n",
        "\n",
        "std_error = np.std(data, ddof=1) / np.sqrt(n)\n",
        "\n",
        "z_score = norm.ppf(1 - (1 - confidence_level) / 2)"
      ],
      "metadata": {
        "id": "0wEfV4PAv2SV"
      },
      "execution_count": 5,
      "outputs": []
    },
    {
      "cell_type": "code",
      "source": [
        "confidence_interval = (mean - z_score * std_error, mean + z_score * std_error)"
      ],
      "metadata": {
        "id": "9qqjUxAmwNQa"
      },
      "execution_count": 6,
      "outputs": []
    },
    {
      "cell_type": "code",
      "source": [
        "print(f\"95% Confidence Interval: {confidence_interval}\")"
      ],
      "metadata": {
        "colab": {
          "base_uri": "https://localhost:8080/"
        },
        "id": "K8xzOqXLwPUJ",
        "outputId": "4c5604a6-c6ff-4d0c-9c3a-568abff99db6"
      },
      "execution_count": 7,
      "outputs": [
        {
          "output_type": "stream",
          "name": "stdout",
          "text": [
            "95% Confidence Interval: (9.232796189617835, 9.93067442009224)\n"
          ]
        }
      ]
    },
    {
      "cell_type": "markdown",
      "source": [
        "# 3. Bayesian Estimation\n",
        "\n",
        "## Definition\n",
        "\n",
        "Bayesian estimation uses Bayes' theorem to update the probability of a hypothesis as new evidence is observed. It combines prior beliefs with observed data.\n",
        "\n",
        "## Key Concepts\n",
        "\n",
        "- Prior: Initial belief about the parameter.\n",
        "- Likelihood: Probability of observed data given the parameter.\n",
        "- Posterior: Updated belief after observing data.\n",
        "\n",
        "## Pros\n",
        "\n",
        "- Can incorporate prior knowledge.\n",
        "- Handles small sample sizes well.\n",
        "\n",
        "## Cons\n",
        "\n",
        "- Requires subjective prior selection.\n",
        "- Computationally intensive.\n",
        "\n",
        "## Use Cases\n",
        "\n",
        "- Machine learning (e.g., Bayesian inference in probabilistic models).\n",
        "- Medical diagnosis (updating probabilities based on test results).\n",
        "Pyt"
      ],
      "metadata": {
        "id": "0BtFUZMbvLMj"
      }
    },
    {
      "cell_type": "code",
      "source": [
        "# Bayesian estimation for a binomial distribution\n",
        "alpha_prior = 2\n",
        "beta_prior = 2\n",
        "successes = 10\n",
        "trials = 15"
      ],
      "metadata": {
        "id": "ToowUE6tv1tY"
      },
      "execution_count": 8,
      "outputs": []
    },
    {
      "cell_type": "code",
      "source": [
        "alpha_post = alpha_prior + successes\n",
        "beta_post = beta_prior + (trials - successes)"
      ],
      "metadata": {
        "id": "THCKsYrswX1P"
      },
      "execution_count": 9,
      "outputs": []
    },
    {
      "cell_type": "code",
      "source": [
        "posterior = beta(alpha_post, beta_post)\n",
        "posterior_mean = posterior.mean()"
      ],
      "metadata": {
        "id": "vvCNGp3TwasB"
      },
      "execution_count": 10,
      "outputs": []
    },
    {
      "cell_type": "code",
      "source": [
        "print(f\"Posterior Mean: {posterior_mean}\")"
      ],
      "metadata": {
        "colab": {
          "base_uri": "https://localhost:8080/"
        },
        "id": "ZvJWd_4-wcdB",
        "outputId": "341a6da0-b7a6-4ba2-8b43-039de97713ad"
      },
      "execution_count": 11,
      "outputs": [
        {
          "output_type": "stream",
          "name": "stdout",
          "text": [
            "Posterior Mean: 0.631578947368421\n"
          ]
        }
      ]
    },
    {
      "cell_type": "markdown",
      "source": [
        "# 4. Monte Carlo Estimation\n",
        "\n",
        "## Definition\n",
        "\n",
        "Monte Carlo estimation uses random sampling to approximate mathematical computations, such as probabilities, integrals, and optimization.\n",
        "\n",
        "## Key Concepts\n",
        "\n",
        "- Random Sampling: Generating random inputs to simulate outcomes.\n",
        "- Convergence: Accuracy improves as the number of samples increases.\n",
        "\n",
        "## Pros\n",
        "\n",
        "- Handles complex, non-analytical problems.\n",
        "- Easy to implement for high-dimensional problems.\n",
        "\n",
        "## Cons\n",
        "\n",
        "- Computationally expensive.\n",
        "- Convergence can be slow for small sample sizes.\n",
        "\n",
        "## Use Cases\n",
        "\n",
        "- Estimating π.\n",
        "- Option pricing in financial models."
      ],
      "metadata": {
        "id": "R58sfX7hvfVW"
      }
    },
    {
      "cell_type": "code",
      "source": [
        "# Estimating π using Monte Carlo\n",
        "np.random.seed(42)\n",
        "n_samples = 10000\n",
        "points = np.random.rand(n_samples, 2)\n",
        "inside_circle = np.sum(np.linalg.norm(points, axis=1) <= 1)"
      ],
      "metadata": {
        "id": "IR9TGzQOv05y"
      },
      "execution_count": 12,
      "outputs": []
    },
    {
      "cell_type": "code",
      "source": [
        "pi_estimate = 4 * inside_circle / n_samples"
      ],
      "metadata": {
        "id": "WF-DpK0awgjR"
      },
      "execution_count": 13,
      "outputs": []
    },
    {
      "cell_type": "code",
      "source": [
        "print(f\"Monte Carlo Estimate of π: {pi_estimate}\")"
      ],
      "metadata": {
        "colab": {
          "base_uri": "https://localhost:8080/"
        },
        "id": "THE-a7kVwjey",
        "outputId": "1f0ecb9f-79fe-427b-9c7e-73d5c75c9cf3"
      },
      "execution_count": 14,
      "outputs": [
        {
          "output_type": "stream",
          "name": "stdout",
          "text": [
            "Monte Carlo Estimate of π: 3.1508\n"
          ]
        }
      ]
    }
  ]
}